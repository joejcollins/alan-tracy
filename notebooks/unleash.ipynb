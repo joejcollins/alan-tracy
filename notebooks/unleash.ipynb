{
 "cells": [
  {
   "cell_type": "markdown",
   "metadata": {},
   "source": [
    "# Check the Unleash Client\n",
    "\n",
    "Confirm that the UnleashClient works as expected.\n",
    "\n",
    "The toggles are on Gitlab at https://gitlab.com/joejcollins/alan-tracy/-/feature_flags."
   ]
  },
  {
   "cell_type": "code",
   "execution_count": 14,
   "metadata": {},
   "outputs": [
    {
     "name": "stdout",
     "output_type": "stream",
     "text": [
      "Toggle is True\n"
     ]
    }
   ],
   "source": [
    "\"\"\"Test an unleash feature flag.\"\"\"\n",
    "from alan_tracy.helpers import unleash\n",
    "\n",
    "TOGGLE = unleash.toggle(\"joe-new-function\")\n",
    "\n",
    "print(f\"Toggle is {TOGGLE}\")"
   ]
  }
 ],
 "metadata": {
  "kernelspec": {
   "display_name": ".venv",
   "language": "python",
   "name": "python3"
  },
  "language_info": {
   "codemirror_mode": {
    "name": "ipython",
    "version": 3
   },
   "file_extension": ".py",
   "mimetype": "text/x-python",
   "name": "python",
   "nbconvert_exporter": "python",
   "pygments_lexer": "ipython3",
   "version": "3.12.6"
  }
 },
 "nbformat": 4,
 "nbformat_minor": 2
}
